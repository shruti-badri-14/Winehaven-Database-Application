{
 "cells": [
  {
   "cell_type": "code",
   "execution_count": null,
   "id": "7087ca36",
   "metadata": {},
   "outputs": [],
   "source": [
    "from DATA225utils import make_connection"
   ]
  },
  {
   "cell_type": "code",
   "execution_count": null,
   "id": "f2b0b217",
   "metadata": {},
   "outputs": [],
   "source": [
    "conn = make_connection(config_file = 'bossbunch_db.ini')\n",
    "cursor = conn.cursor()"
   ]
  },
  {
   "cell_type": "code",
   "execution_count": null,
   "id": "cd3a81a3",
   "metadata": {},
   "outputs": [],
   "source": [
    "def drop_tables_if_exists(table_list):\n",
    "    for table_name in table_list:\n",
    "        drop_sql = ( \"\"\"\n",
    "                     drop table if exists \"\"\"+ table_name\n",
    "                    )\n",
    "        cursor.execute(drop_sql)\n",
    "        print(\"The Table \",table_name,\" is dropped\")"
   ]
  },
  {
   "cell_type": "code",
   "execution_count": null,
   "id": "3b566c62",
   "metadata": {},
   "outputs": [],
   "source": [
    "drop_tables_if_exists(['Feedback'])\n",
    "drop_tables_if_exists(['Wishlist'])\n",
    "drop_tables_if_exists(['Items'])"
   ]
  },
  {
   "cell_type": "code",
   "execution_count": null,
   "id": "d84991e3",
   "metadata": {},
   "outputs": [],
   "source": [
    "def create_table(sql,table_name):\n",
    "    cursor.execute(sql) \n",
    "    print(\"Table \",table_name,\" is created successfully\")"
   ]
  },
  {
   "cell_type": "markdown",
   "id": "a9ddab42",
   "metadata": {},
   "source": [
    "### Feedback Table"
   ]
  },
  {
   "cell_type": "code",
   "execution_count": null,
   "id": "ccb09e18",
   "metadata": {},
   "outputs": [],
   "source": [
    "sql = ( \"\"\"\n",
    "        CREATE TABLE Feedback\n",
    "        (\n",
    "          Winename VARCHAR(50) NOT NULL,\n",
    "          Rating INT NOT NULL,\n",
    "          Feedback VARCHAR(400) NOT NULL,\n",
    "          Username VARCHAR(25) REFERENCES Users(Username),\n",
    "          PurchaseExperience INT NOT NULL      \n",
    "          \n",
    "        );\n",
    "        \"\"\"\n",
    "      )\n",
    "\n",
    "create_table(sql,\"Feedback\")"
   ]
  },
  {
   "cell_type": "markdown",
   "id": "ae52d50f",
   "metadata": {},
   "source": [
    "### Wishlist Table"
   ]
  },
  {
   "cell_type": "code",
   "execution_count": null,
   "id": "9f74d53f",
   "metadata": {},
   "outputs": [],
   "source": [
    "sql = ( \"\"\"\n",
    "        CREATE TABLE `Wishlist` \n",
    "        (\n",
    "         WishlistID INT NOT NULL,\n",
    "         CustomerID INT DEFAULT NULL,\n",
    "         WineID VARCHAR(25) DEFAULT NULL,\n",
    "         AddedDate datetime DEFAULT CURRENT_TIMESTAMP,\n",
    "         PRIMARY KEY (WishlistID)\n",
    "       ) ;\n",
    "        \"\"\"\n",
    "      )\n",
    "\n",
    "create_table(sql,\"Wishlist\")"
   ]
  },
  {
   "cell_type": "markdown",
   "id": "80a03344",
   "metadata": {},
   "source": [
    "### Items Table"
   ]
  },
  {
   "cell_type": "code",
   "execution_count": null,
   "id": "797990bc",
   "metadata": {},
   "outputs": [],
   "source": [
    "sql = ( \"\"\"\n",
    "        CREATE TABLE Items\n",
    "        (\n",
    "          ItemID VARCHAR(25) NOT NULL,\n",
    "          Quantity INT NOT NULL,\n",
    "          PerUnitPrice FLOAT , -- NOT NULL,\n",
    "          OrderID VARCHAR(25) NOT NULL,\n",
    "          CONSTRAINT ItemsPK\n",
    "          PRIMARY KEY (ItemID),\n",
    "          CONSTRAINT ItemsFK1\n",
    "          FOREIGN KEY (OrderID) REFERENCES Orders(OrderID)\n",
    "        );\n",
    "        \"\"\"\n",
    "      )\n",
    "\n",
    "create_table(sql,\"Items\")"
   ]
  }
 ],
 "metadata": {
  "kernelspec": {
   "display_name": "Python 3 (ipykernel)",
   "language": "python",
   "name": "python3"
  },
  "language_info": {
   "codemirror_mode": {
    "name": "ipython",
    "version": 3
   },
   "file_extension": ".py",
   "mimetype": "text/x-python",
   "name": "python",
   "nbconvert_exporter": "python",
   "pygments_lexer": "ipython3",
   "version": "3.9.13"
  }
 },
 "nbformat": 4,
 "nbformat_minor": 5
}
