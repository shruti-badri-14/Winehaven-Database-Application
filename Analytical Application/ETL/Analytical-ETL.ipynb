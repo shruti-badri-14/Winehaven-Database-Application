{
 "cells": [
  {
   "cell_type": "code",
   "execution_count": null,
   "id": "d187225a",
   "metadata": {},
   "outputs": [],
   "source": [
    "from pandas import DataFrame\n",
    "from DATA225utils import make_connection, dataframe_query"
   ]
  },
  {
   "cell_type": "code",
   "execution_count": null,
   "id": "bf524d3e",
   "metadata": {},
   "outputs": [],
   "source": [
    "conn_db = make_connection(config_file = 'bossbunch_db.ini')\n",
    "cursor_db = conn_db.cursor()"
   ]
  },
  {
   "cell_type": "code",
   "execution_count": null,
   "id": "167330fb",
   "metadata": {},
   "outputs": [],
   "source": [
    "conn_warehouse = make_connection(config_file = 'bossbunch_wh.ini')\n",
    "cursor_warehouse = conn_warehouse.cursor()"
   ]
  },
  {
   "cell_type": "markdown",
   "id": "c8aab566-3279-466a-9e2e-58b80727678c",
   "metadata": {},
   "source": [
    "## Dimesnion Tables"
   ]
  },
  {
   "cell_type": "markdown",
   "id": "22bd2c3f",
   "metadata": {},
   "source": [
    "## Orders Table"
   ]
  },
  {
   "cell_type": "code",
   "execution_count": null,
   "id": "fd89425d",
   "metadata": {},
   "outputs": [],
   "source": [
    "sql = ( \"\"\"\n",
    "        INSERT INTO bossbunch_wh.Orders(OrderID, \n",
    "                                            TotalAmount, Coupon, CustomerID, OrdersKey, Date \n",
    "                                          )\n",
    "            SELECT bossbunch_db.Orders.OrderID, \n",
    "                   bossbunch_db.Orders.TotalAmount, \n",
    "                   bossbunch_db.Orders.Coupon,\n",
    "                   bossbunch_db.Orders.CustomerID,\n",
    "                   bossbunch_db.Orders.Date\n",
    "            FROM bossbunch_db.Orders\n",
    "            \n",
    "        \"\"\"\n",
    "      )\n",
    "\n",
    "cursor_db.execute(sql)\n",
    "conn_db.commit()"
   ]
  },
  {
   "cell_type": "markdown",
   "id": "bf9e5ddc",
   "metadata": {},
   "source": [
    "## Customer Table"
   ]
  },
  {
   "cell_type": "code",
   "execution_count": null,
   "id": "aa7f1fbe-f792-44d0-9550-c1776b5d5294",
   "metadata": {},
   "outputs": [],
   "source": [
    "sql = (\"\"\"\n",
    "        INSERT INTO bossbunch_wh.Customer(CustomerID, \n",
    "                                          CustomerName, \n",
    "                                          CustomerAge, \n",
    "                                          CustomerEmail, \n",
    "                                          CustomerZip, \n",
    "                                          CustomerCreditScore, \n",
    "                                          RegionID\n",
    "                                         )\n",
    "            SELECT bossbunch_db.Customer.CustomerID, \n",
    "                   bossbunch_db.Customer.FirstName || ' ' || bossbunch_db.Customer.LastName AS CustomerName,\n",
    "                   bossbunch_db.Customer.CustomerAge,\n",
    "                   bossbunch_db.Customer.CustomerEmail,\n",
    "                   bossbunch_db.Customer.CustomerZip,\n",
    "                   bossbunch_db.Customer.CustomerCreditScore,\n",
    "                   bossbunch_db.Customer.RegionID\n",
    "            FROM bossbunch_db.Customer\n",
    "       \"\"\")\n",
    "\n",
    "cursor_db.execute(sql)\n",
    "conn_db.commit()"
   ]
  },
  {
   "cell_type": "markdown",
   "id": "fd281ceb-310c-4af0-b51d-88e133795511",
   "metadata": {},
   "source": [
    "## Fact Tables"
   ]
  },
  {
   "cell_type": "markdown",
   "id": "cf6327f8-70f3-4cfb-9af1-11bf4d1b3b4b",
   "metadata": {},
   "source": [
    "## AnalysisPerCuWyS Fact Table"
   ]
  },
  {
   "cell_type": "code",
   "execution_count": null,
   "id": "ae71a1ba-6982-4560-94c7-e2ccb2f1ade6",
   "metadata": {},
   "outputs": [],
   "source": [
    "sql = (\"\"\"\n",
    "    INSERT IGNORE INTO bossbunch_wh.AnalysisPerCuWyS (SalesAmount, CustomerKey, WineryKey, ShippingKey, OrdersKey)\n",
    "    SELECT\n",
    "        bossbunch_wh.SalesPerWOC.RevenueInDollars AS SalesAmount,\n",
    "        bossbunch_wh.Customer.CustomerKey,\n",
    "        bossbunch_wh.Winery.WineryKey,\n",
    "        bossbunch_wh.Shipping.ShippingKey,\n",
    "        bossbunch_wh.SalesPerWOC.OrdersKey\n",
    "    FROM\n",
    "        bossbunch_wh.SalesPerWOC\n",
    "        INNER JOIN bossbunch_wh.Orders ON bossbunch_wh.Orders.OrdersKey = bossbunch_wh.SalesPerWOC.OrdersKey\n",
    "        INNER JOIN bossbunch_wh.Customers ON bossbunch_wh.Customers.CustomerID = bossbunch_wh.Orders.CustomerID\n",
    "        INNER JOIN bossbunch_wh.Winery ON bossbunch_wh.Winery.WineID = bossbunch_wh.SalesPerWOC.WineKey\n",
    "        INNER JOIN bossbunch_wh.Shipping ON bossbunch_wh.Shipping.ShippingID = bossbunch_wh.Orders.ShippingID\n",
    "    WHERE NOT EXISTS (\n",
    "        SELECT 1 FROM bossbunch_wh.AnalysisPerCuWyS\n",
    "        WHERE bossbunch_wh.AnalysisPerCuWyS.CustomerKey = bossbunch_wh.Customers.CustomerKey\n",
    "        AND bossbunch_wh.AnalysisPerCuWyS.WineryKey = bossbunch_wh.Winery.WineryKey\n",
    "        AND bossbunch_wh.AnalysisPerCuWyS.ShippingKey = bossbunch_wh.Shipping.ShippingKey\n",
    "        AND bossbunch_wh.AnalysisPerCuWyS.OrdersKey = bossbunch_wh.SalesPerWOC.OrdersKey\n",
    "    )\n",
    "\"\"\")\n",
    "\n",
    "cursor_warehouse.execute(sql)\n",
    "conn_warehouse.commit()"
   ]
  },
  {
   "cell_type": "markdown",
   "id": "cc8dab11-b253-41d6-9b59-86f364da6df6",
   "metadata": {},
   "source": [
    "## AnalysisPerWF Fact Table"
   ]
  },
  {
   "cell_type": "code",
   "execution_count": null,
   "id": "31022ca1-b55e-4dc8-8622-43ce584a7a20",
   "metadata": {},
   "outputs": [],
   "source": [
    "sql = (\"\"\"\n",
    "    INSERT IGNORE INTO bossbunch_wh.AnalysisPerWF (RatingCount, WineKey, FeedbackKey)\n",
    "    SELECT\n",
    "        COUNT(bossbunch_wh.Feedback.Rating) AS RatingCount,\n",
    "        bossbunch_wh.Wine.WineKey,\n",
    "        bossbunch_wh.Feedback.FeedbackKey\n",
    "    FROM\n",
    "        bossbunch_wh.Feedback\n",
    "        INNER JOIN bossbunch_wh.Wine ON bossbunch_wh.Wine.WineID = bossbunch_wh.Feedback.WineID\n",
    "    WHERE NOT EXISTS (\n",
    "        SELECT 1 FROM bossbunch_wh.AnalysisPerWF\n",
    "        WHERE bossbunch_wh.AnalysisPerWF.WineKey = bossbunch_wh.Wine.WineKey\n",
    "        AND bossbunch_wh.AnalysisPerWF.FeedbackKey = bossbunch_wh.Feedback.FeedbackKey\n",
    "    )\n",
    "    GROUP BY\n",
    "        bossbunch_wh.Wine.WineKey, bossbunch_wh.Feedback.FeedbackKey\n",
    "\"\"\")\n",
    "\n",
    "cursor_warehouse.execute(sql)\n",
    "conn_warehouse.commit()"
   ]
  }
 ],
 "metadata": {
  "kernelspec": {
   "display_name": "Python 3 (ipykernel)",
   "language": "python",
   "name": "python3"
  },
  "language_info": {
   "codemirror_mode": {
    "name": "ipython",
    "version": 3
   },
   "file_extension": ".py",
   "mimetype": "text/x-python",
   "name": "python",
   "nbconvert_exporter": "python",
   "pygments_lexer": "ipython3",
   "version": "3.9.13"
  }
 },
 "nbformat": 4,
 "nbformat_minor": 5
}
