{
 "cells": [
  {
   "cell_type": "code",
   "execution_count": null,
   "id": "d187225a",
   "metadata": {},
   "outputs": [],
   "source": [
    "from pandas import DataFrame\n",
    "from DATA225utils import make_connection, dataframe_query"
   ]
  },
  {
   "cell_type": "code",
   "execution_count": null,
   "id": "bf524d3e",
   "metadata": {},
   "outputs": [],
   "source": [
    "conn_db = make_connection(config_file = 'bossbunch_db.ini')\n",
    "cursor_db = conn_db.cursor()"
   ]
  },
  {
   "cell_type": "code",
   "execution_count": null,
   "id": "167330fb",
   "metadata": {},
   "outputs": [],
   "source": [
    "conn_warehouse = make_connection(config_file = 'bossbunch_wh.ini')\n",
    "cursor_warehouse = conn_warehouse.cursor()"
   ]
  },
  {
   "cell_type": "code",
   "execution_count": null,
   "id": "03abf0e0",
   "metadata": {},
   "outputs": [],
   "source": [
    "def make_table(table, sql):\n",
    "    cursor_warehouse.execute(f\"DROP TABLE IF EXISTS {table}\")\n",
    "    cursor_warehouse.execute(sql)"
   ]
  },
  {
   "cell_type": "code",
   "execution_count": null,
   "id": "bc5615b8",
   "metadata": {},
   "outputs": [],
   "source": [
    "def display_table(table, order_by=''):\n",
    "    sql = f\"SELECT * FROM {table}\"\n",
    "    \n",
    "    if order_by != '':\n",
    "        sql = sql + \" ORDER BY \" + order_by\n",
    "        \n",
    "    _, df = dataframe_query(conn_warehouse, sql)    \n",
    "    return df"
   ]
  },
  {
   "cell_type": "code",
   "execution_count": null,
   "id": "39040e90",
   "metadata": {},
   "outputs": [],
   "source": [
    "drop_tables_if_exists(['feedback'])\n",
    "drop_tables_if_exists(['Wishlist'])\n",
    "drop_tables_if_exists(['Calendar'])\n",
    "drop_tables_if_exists(['Wine'])\n",
    "drop_tables_if_exists(['SalesPerWOC'])"
   ]
  },
  {
   "cell_type": "markdown",
   "id": "22bd2c3f",
   "metadata": {},
   "source": [
    "## Feedback Dimesnsion Table"
   ]
  },
  {
   "cell_type": "code",
   "execution_count": null,
   "id": "e5fbcf88",
   "metadata": {},
   "outputs": [],
   "source": [
    "sql = ( \"\"\"\n",
    "        CREATE TABLE Feedback\n",
    "        (\n",
    "            FeedbackKey INT NOT NULL AUTO_INCREMENT,\n",
    "            Winename VARCHAR(50),\n",
    "            Rating INT,\n",
    "            PurchaseExperience INT\n",
    "            PRIMARY KEY(FeedbackKey)\n",
    "        );\n",
    "        \"\"\"\n",
    "      )\n",
    "\n",
    "make_table('Feedback', sql)"
   ]
  },
  {
   "cell_type": "code",
   "execution_count": null,
   "id": "fd89425d",
   "metadata": {},
   "outputs": [],
   "source": [
    "sql = ( \"\"\"\n",
    "        INSERT INTO bossbunch_wh.Feedback(Winename, \n",
    "                                            Rating, PurchaseExperience\n",
    "                                          )\n",
    "            SELECT bossbunch_db.Feedback.Winename, \n",
    "                   bossbunch_db.Feedback.Rating, \n",
    "                   bossbunch_db.Feedback.PurchaseExperience\n",
    "            FROM bossbunch_db.Feedback\n",
    "            \n",
    "        \"\"\"\n",
    "      )\n",
    "\n",
    "cursor_db.execute(sql)\n",
    "conn_db.commit()"
   ]
  },
  {
   "cell_type": "markdown",
   "id": "bf9e5ddc",
   "metadata": {},
   "source": [
    "## Wishlist Dimesnsion Table"
   ]
  },
  {
   "cell_type": "code",
   "execution_count": null,
   "id": "055cf8b3",
   "metadata": {},
   "outputs": [],
   "source": [
    "sql = ( \"\"\"\n",
    "        CREATE TABLE Wishlist\n",
    "        (\n",
    "            WishlistKey INT NOT NULL AUTO_INCREMENT,\n",
    "            WishlistID INT,\n",
    "            CustomerID INT,\n",
    "            WineID VARCHAR(25),\n",
    "            AddedDate DATETIME DEFAULT CURRENT_TIMESTAMP, \n",
    "            PRIMARY KEY(WishlistKey)\n",
    "        )\n",
    "        \"\"\"\n",
    "      )\n",
    "\n",
    "make_table('Wishlist', sql)"
   ]
  },
  {
   "cell_type": "code",
   "execution_count": null,
   "id": "c52410ec",
   "metadata": {},
   "outputs": [],
   "source": [
    "sql = ( \"\"\"\n",
    "        INSERT INTO bossbunch_wh.Wishlist(WishlistID, \n",
    "                                            CustomerID, WineID, AddedDate\n",
    "                                          )\n",
    "            SELECT bossbunch_db.Wishlist.WishlistID, \n",
    "                   bossbunch_db.Wishlist.CustomerID, \n",
    "                   bossbunch_db.Wishlist.WineID,\n",
    "                   bossbunch_db.Wishlist.AddedDate\n",
    "            FROM bossbunch_db.Wishlist\n",
    "            \n",
    "        \"\"\"\n",
    "      )\n",
    "\n",
    "cursor_db.execute(sql)\n",
    "conn_db.commit()"
   ]
  },
  {
   "cell_type": "markdown",
   "id": "228888c5",
   "metadata": {},
   "source": [
    "## Calendar Dimesnion Table"
   ]
  },
  {
   "cell_type": "code",
   "execution_count": null,
   "id": "0e19c32c",
   "metadata": {},
   "outputs": [],
   "source": [
    "sql = ( \"\"\"\n",
    "        CREATE TABLE bossbunch_wh.Calendar (\n",
    "        CalendarKey INT NOT NULL AUTO_INCREMENT,\n",
    "        FullDate DATE,\n",
    "        DayOfMonth INT,\n",
    "        DayOfWeek VARCHAR(55),\n",
    "        CustomTimestamp TIMESTAMP,\n",
    "        Month VARCHAR(55),\n",
    "        Quarter VARCHAR(55),\n",
    "        Year VARCHAR(55),\n",
    "        PRIMARY KEY(CalendarKey)\n",
    "        );\n",
    "        \"\"\"\n",
    "      )\n",
    "\n",
    "make_table('Calendar', sql)"
   ]
  },
  {
   "cell_type": "code",
   "execution_count": null,
   "id": "d501321e",
   "metadata": {},
   "outputs": [],
   "source": [
    "sql = ( \"\"\"\n",
    "        INSERT INTO bossbunch_wh.Calendar(FullDate, DayOfMonth, DayOfWeek, CustomTimestamp, Month, Quarter, Year)\n",
    "            SELECT DISTINCT Date AS FullDate,DAY(Date) AS DayOfMonth, DAYNAME(Date) AS DayOfWeek,\n",
    "                            Date AS CustomTimestamp, MONTHname(Date) AS Month,\n",
    "                            CONCAT('Q',QUARTER(Date)) AS Quarter, YEAR(Date) AS Year\n",
    "            FROM bossbunch_db.Orders;\n",
    "        \"\"\"\n",
    "      )\n",
    "\n",
    "cursor_warehouse.execute(sql)\n",
    "conn_warehouse.commit()"
   ]
  },
  {
   "cell_type": "markdown",
   "id": "f8a24aea",
   "metadata": {},
   "source": [
    "## Wine Dimension Table"
   ]
  },
  {
   "cell_type": "code",
   "execution_count": null,
   "id": "42a7b765",
   "metadata": {},
   "outputs": [],
   "source": [
    "sql = ( \"\"\"\n",
    "        CREATE TABLE bossbunch_wh.Wine (\n",
    "        WineKey INT NOT NULL AUTO_INCREMENT,\n",
    "        WineID VARCHAR(10),\n",
    "        WineName VARCHAR(255),\n",
    "        WineType VARCHAR(255),\n",
    "        WineGrapeVariety VARCHAR(255),\n",
    "        WineVintage VARCHAR(255),\n",
    "        WinePricePerUnit NUMERIC(5,2),\n",
    "        PRIMARY KEY(WineKey)\n",
    "        );\n",
    "        \"\"\"\n",
    "      )\n",
    "\n",
    "make_table('Wine', sql)"
   ]
  },
  {
   "cell_type": "code",
   "execution_count": null,
   "id": "4dd46405",
   "metadata": {},
   "outputs": [],
   "source": [
    "sql = ( \"\"\"\n",
    "        INSERT INTO bossbunch_wh.Wine (WineID, WineName, WineType, WineGrapeVariety, WineVintage, WinePricePerUnit)\n",
    "        SELECT\n",
    "            w.WineID,\n",
    "            w.WineName,\n",
    "            wt.WineType,\n",
    "            gv.Variety,\n",
    "            w.Vintage,\n",
    "            w.Price\n",
    "        FROM\n",
    "            bossbunch_db.Wine w\n",
    "            JOIN bossbunch_db.WineType wt ON w.WineTypeID = wt.WineTypeID\n",
    "            JOIN bossbunch_db.GrapeVariety gv ON w.VarietyID = gv.VarietyID;\n",
    "\n",
    "        \"\"\"\n",
    "      )\n",
    "\n",
    "cursor_warehouse.execute(sql)\n",
    "conn_warehouse.commit()"
   ]
  },
  {
   "cell_type": "markdown",
   "id": "b7ea25f0",
   "metadata": {},
   "source": [
    "## SalesPerWOC Fact Table"
   ]
  },
  {
   "cell_type": "code",
   "execution_count": null,
   "id": "e8e781b7",
   "metadata": {},
   "outputs": [],
   "source": [
    "sql = ( \"\"\"\n",
    "        CREATE TABLE bossbunch_wh.SalesPerWOC (\n",
    "          CalendarKey INT,\n",
    "          FOREIGN KEY fk_calendar(CalendarKey) REFERENCES Calendar(CalendarKey),\n",
    "          WineKey INT,\n",
    "          FOREIGN KEY fk_wine(WineKey) REFERENCES Wine(WineKey),\n",
    "          OrdersKey INT,\n",
    "          FOREIGN KEY fk_orders(OrdersKey) REFERENCES Orders(OrdersKey),\n",
    "          RevenueInDollars NUMERIC(10,2),\n",
    "          UnitsSold INT,\n",
    "          CONSTRAINT pk_sales PRIMARY KEY (CalendarKey, WineKey, OrdersKey)\n",
    "        );\n",
    "        \"\"\"\n",
    "      )\n",
    "\n",
    "make_table('SalesPerWOC', sql)"
   ]
  },
  {
   "cell_type": "code",
   "execution_count": null,
   "id": "1cba6397",
   "metadata": {},
   "outputs": [],
   "source": [
    "sql = (\"\"\"\n",
    "    INSERT IGNORE INTO bossbunch_wh.SalesPerWOC (CalendarKey, WineKey, OrdersKey, RevenueInDollars, UnitsSold)\n",
    "    SELECT\n",
    "        bossbunch_wh.Calendar.CalendarKey,\n",
    "        bossbunch_wh.Wine.WineKey,\n",
    "        bossbunch_wh.Orders.OrdersKey,\n",
    "        bossbunch_wh.Wine.WinePricePerUnit * bossbunch_db.Items.quantity AS RevenueInDollars,\n",
    "        bossbunch_db.Items.Quantity AS UnitsSold\n",
    "    FROM\n",
    "        bossbunch_wh.Calendar\n",
    "        INNER JOIN bossbunch_wh.Orders ON bossbunch_wh.Orders.Date = bossbunch_wh.Calendar.FullDate \n",
    "        INNER JOIN bossbunch_db.Items ON bossbunch_db.Items.OrderId = bossbunch_wh.Orders.OrderId\n",
    "        INNER JOIN bossbunch_wh.Wine ON bossbunch_wh.Wine.WineID = bossbunch_db.Items.ItemID\n",
    "    WHERE NOT EXISTS (\n",
    "        SELECT 1 FROM bossbunch_wh.SalesPerWOC\n",
    "        WHERE bossbunch_wh.SalesPerWOC.CalendarKey = bossbunch_wh.Calendar.CalendarKey\n",
    "        AND bossbunch_wh.SalesPerWOC.WineKey = bossbunch_wh.Wine.WineKey\n",
    "        AND bossbunch_wh.SalesPerWOC.OrdersKey = bossbunch_wh.Orders.OrdersKey\n",
    "        \n",
    "    )\n",
    "\"\"\")\n",
    "\n",
    "cursor_warehouse.execute(sql)\n",
    "conn_warehouse.commit()"
   ]
  },
  {
   "cell_type": "code",
   "execution_count": null,
   "id": "08a96e0b",
   "metadata": {},
   "outputs": [],
   "source": []
  }
 ],
 "metadata": {
  "kernelspec": {
   "display_name": "Python 3 (ipykernel)",
   "language": "python",
   "name": "python3"
  },
  "language_info": {
   "codemirror_mode": {
    "name": "ipython",
    "version": 3
   },
   "file_extension": ".py",
   "mimetype": "text/x-python",
   "name": "python",
   "nbconvert_exporter": "python",
   "pygments_lexer": "ipython3",
   "version": "3.9.13"
  }
 },
 "nbformat": 4,
 "nbformat_minor": 5
}
